{
 "cells": [
  {
   "cell_type": "code",
   "execution_count": 38,
   "id": "b3b5bb0b",
   "metadata": {},
   "outputs": [],
   "source": [
    "import pandas as pd\n",
    "import numpy as np\n",
    "import matplotlib.pyplot as plt"
   ]
  },
  {
   "cell_type": "code",
   "execution_count": 47,
   "id": "2b0e9ec0",
   "metadata": {},
   "outputs": [],
   "source": [
    "df = pd.read_csv(\"/home/admn/1nt18is195/Food-Truck-LineReg.csv\")"
   ]
  },
  {
   "cell_type": "code",
   "execution_count": 48,
   "id": "ebd41798",
   "metadata": {},
   "outputs": [
    {
     "data": {
      "text/html": [
       "<div>\n",
       "<style scoped>\n",
       "    .dataframe tbody tr th:only-of-type {\n",
       "        vertical-align: middle;\n",
       "    }\n",
       "\n",
       "    .dataframe tbody tr th {\n",
       "        vertical-align: top;\n",
       "    }\n",
       "\n",
       "    .dataframe thead th {\n",
       "        text-align: right;\n",
       "    }\n",
       "</style>\n",
       "<table border=\"1\" class=\"dataframe\">\n",
       "  <thead>\n",
       "    <tr style=\"text-align: right;\">\n",
       "      <th></th>\n",
       "      <th>x</th>\n",
       "      <th>y</th>\n",
       "    </tr>\n",
       "  </thead>\n",
       "  <tbody>\n",
       "    <tr>\n",
       "      <th>0</th>\n",
       "      <td>6.1101</td>\n",
       "      <td>17.5920</td>\n",
       "    </tr>\n",
       "    <tr>\n",
       "      <th>1</th>\n",
       "      <td>5.5277</td>\n",
       "      <td>9.1302</td>\n",
       "    </tr>\n",
       "    <tr>\n",
       "      <th>2</th>\n",
       "      <td>8.5186</td>\n",
       "      <td>13.6620</td>\n",
       "    </tr>\n",
       "    <tr>\n",
       "      <th>3</th>\n",
       "      <td>7.0032</td>\n",
       "      <td>11.8540</td>\n",
       "    </tr>\n",
       "    <tr>\n",
       "      <th>4</th>\n",
       "      <td>5.8598</td>\n",
       "      <td>6.8233</td>\n",
       "    </tr>\n",
       "  </tbody>\n",
       "</table>\n",
       "</div>"
      ],
      "text/plain": [
       "        x        y\n",
       "0  6.1101  17.5920\n",
       "1  5.5277   9.1302\n",
       "2  8.5186  13.6620\n",
       "3  7.0032  11.8540\n",
       "4  5.8598   6.8233"
      ]
     },
     "execution_count": 48,
     "metadata": {},
     "output_type": "execute_result"
    }
   ],
   "source": [
    "df.head()"
   ]
  },
  {
   "cell_type": "code",
   "execution_count": 49,
   "id": "9190f2d6",
   "metadata": {},
   "outputs": [],
   "source": [
    "X = df.iloc[:,0].tolist()"
   ]
  },
  {
   "cell_type": "code",
   "execution_count": 50,
   "id": "5b4b2aa2",
   "metadata": {},
   "outputs": [],
   "source": [
    "Y = df.iloc[:,1].tolist()"
   ]
  },
  {
   "cell_type": "code",
   "execution_count": 51,
   "id": "09c5b12f",
   "metadata": {},
   "outputs": [],
   "source": [
    "from sklearn.model_selection import train_test_split\n",
    "\n",
    "x, x_test, y, y_test = train_test_split(X, Y, test_size = 0.2, random_state = 111)"
   ]
  },
  {
   "cell_type": "code",
   "execution_count": 52,
   "id": "42d4b404",
   "metadata": {},
   "outputs": [
    {
     "name": "stdout",
     "output_type": "stream",
     "text": [
      "65.98055231722078 65.9805523172208\n"
     ]
    }
   ],
   "source": [
    "x_sum = 0\n",
    "y_sum = 0\n",
    "x_sum_sq = 0\n",
    "y_sum_sq = 0\n",
    "xy_sum = 0\n",
    "n = len(x)\n",
    "xy = [None] * n\n",
    "for i in range(n):\n",
    "    x_sum += x[i]\n",
    "    y_sum += y[i]\n",
    "    x_sum_sq += ( x[i] ** 2 )\n",
    "    y_sum_sq += ( y[i] ** 2 )\n",
    "    xy_sum += ( x[i] * y[i] )\n",
    "    xy[i] = x[i] * y[i]\n",
    "x_mean = ( x_sum / n )\n",
    "y_mean = ( y_sum / n )\n",
    "xy_mean = xy_sum / n\n",
    "\n",
    "print(xy_mean, np.mean(xy))"
   ]
  },
  {
   "cell_type": "code",
   "execution_count": 53,
   "id": "1a5e38c2",
   "metadata": {},
   "outputs": [],
   "source": [
    "x_std = 0\n",
    "y_std = 0\n",
    "for i in range(n):\n",
    "    x_std += ( ( x[i] - x_mean ) ** 2 )\n",
    "    y_std += ( ( y[i] - y_mean ) ** 2 )\n",
    "x_std = ( x_std / n ) ** (1/2)\n",
    "y_std = ( y_std / n ) ** (1/2)"
   ]
  },
  {
   "cell_type": "code",
   "execution_count": 54,
   "id": "4f8d8da2",
   "metadata": {},
   "outputs": [],
   "source": [
    "r = (xy_sum) / (x_sum_sq * y_sum_sq)"
   ]
  },
  {
   "cell_type": "code",
   "execution_count": 55,
   "id": "2222d1e8",
   "metadata": {},
   "outputs": [
    {
     "name": "stdout",
     "output_type": "stream",
     "text": [
      "-9.247776885990541\n"
     ]
    }
   ],
   "source": [
    "m = r * ( y_std / x_std )\n",
    "m = ( (x_mean * y_mean) - (xy_mean) ) / ( (x_mean ** 2) - (xy_mean) )\n",
    "#m = ((np.mean(x) * np.mean(y)) - np.mean(x*y)) / ((np.mean(x)**2) - np.mean(x*y))\n",
    "print(m)"
   ]
  },
  {
   "cell_type": "code",
   "execution_count": 56,
   "id": "a80bc444",
   "metadata": {},
   "outputs": [
    {
     "name": "stdout",
     "output_type": "stream",
     "text": [
      "82.16621246081645\n"
     ]
    }
   ],
   "source": [
    "c = y_mean - ( m * x_mean )\n",
    "print(c)"
   ]
  },
  {
   "cell_type": "code",
   "execution_count": 57,
   "id": "35f035e4",
   "metadata": {},
   "outputs": [],
   "source": [
    "nt = len(x_test)\n",
    "y_pred = [None] * nt\n",
    "    \n",
    "for i in range(nt):\n",
    "    y_pred[i] = (m * x_test[i] + c)"
   ]
  },
  {
   "cell_type": "code",
   "execution_count": 58,
   "id": "7c6844d3",
   "metadata": {},
   "outputs": [
    {
     "name": "stdout",
     "output_type": "stream",
     "text": [
      "[3.5129, 4.9981, 6.7318, 5.3048, 0.92695, 3.1386, 1.9869, 0.152, 2.0576, 4.1164, 5.1337, -2.6807, 22.638, 5.1875, 1.0173, 13.501, -0.74279, -1.4211, 17.054, 6.7526] [32.41872148031893, 11.854440018941759, 9.805132661006269, 23.30041347073226, 26.661055591101224, 24.930796535732398, 33.10305696988224, 31.114784939394262, 34.93134246024256, 7.297135569525622, 35.27813409346721, 35.6785628326306, -93.03292064427437, 23.663851102351686, 31.30898825400007, -36.46426943267021, 34.26920163520565, 23.360524020491198, -93.16238952067822, -12.845447265850368]\n"
     ]
    }
   ],
   "source": [
    "sse = 0\n",
    "sst = 0\n",
    "ssr = 0\n",
    "y_test_mean = 0\n",
    "for i in range(nt):\n",
    "    y_test_mean += y_test[i]\n",
    "y_test_mean = y_test_mean / nt\n",
    "for i in range(nt):\n",
    "    sse += ( ( y_test[i] - y_pred[i] ) ** 2 )\n",
    "    sst += ( ( y_test[i] - y_test_mean ) ** 2 )\n",
    "    ssr += ( ( y_pred[i] - y_test_mean ) ** 2 )\n",
    "mse = sse / n\n",
    "r_sq = 1 - ( sse / sst )\n",
    "print(y_test, y_pred)"
   ]
  },
  {
   "cell_type": "code",
   "execution_count": 59,
   "id": "803e839d",
   "metadata": {},
   "outputs": [
    {
     "name": "stdout",
     "output_type": "stream",
     "text": [
      "Cost: 39257.77304440122\n",
      "SSE: 39257.77304440122\n",
      "SSR: 29777.734515845485\n",
      "SST: 748.2130808609201\n",
      "R^2: -51.468707175274\n"
     ]
    }
   ],
   "source": [
    "print(\"Cost:\", sse)\n",
    "print(\"SSE:\", sse)\n",
    "print(\"SSR:\", ssr)\n",
    "print(\"SST:\", sst)\n",
    "print(\"R^2:\", r_sq)"
   ]
  },
  {
   "cell_type": "code",
   "execution_count": 60,
   "id": "f7adde4f",
   "metadata": {},
   "outputs": [
    {
     "data": {
      "image/png": "[encoded data removed]",
      "text/plain": [
       "<Figure size 432x288 with 1 Axes>"
      ]
     },
     "metadata": {
      "needs_background": "light"
     },
     "output_type": "display_data"
    }
   ],
   "source": [
    "plt.scatter(x_test,y_test,color = \"blue\")\n",
    "plt.plot(x_test,y_pred, color=\"red\")\n",
    "plt.show()\n"
   ]
  },
  {
   "cell_type": "code",
   "execution_count": 61,
   "id": "005293ec",
   "metadata": {},
   "outputs": [
    {
     "name": "stdout",
     "output_type": "stream",
     "text": [
      "-3.259733238113532\n",
      "[1.13318163]\n"
     ]
    }
   ],
   "source": [
    "from sklearn.linear_model import LinearRegression\n",
    "import numpy as np\n",
    "reg = LinearRegression()\n",
    "x_arr = np.array(x)\n",
    "y_arr = np.array(y)\n",
    "reg.fit(x_arr.reshape(-1,1), y_arr)\n",
    "print(reg.intercept_)\n",
    "print(reg.coef_)"
   ]
  },
  {
   "cell_type": "code",
   "execution_count": 63,
   "id": "bb03403b",
   "metadata": {},
   "outputs": [],
   "source": [
    "pred_y = reg.predict(np.array(x_test).reshape(-1,1))"
   ]
  },
  {
   "cell_type": "code",
   "execution_count": 64,
   "id": "edd4ac4b",
   "metadata": {},
   "outputs": [
    {
     "data": {
      "image/png": "[encoded data removed]",
      "text/plain": [
       "<Figure size 432x288 with 1 Axes>"
      ]
     },
     "metadata": {
      "needs_background": "light"
     },
     "output_type": "display_data"
    }
   ],
   "source": [
    "plt.scatter(x_test,y_test,color = \"blue\")\n",
    "plt.plot(x_test,pred_y, color=\"red\")\n",
    "plt.show()"
   ]
  },
  {
   "cell_type": "code",
   "execution_count": null,
   "id": "48430618",
   "metadata": {},
   "outputs": [],
   "source": []
  }
 ],
 "metadata": {
  "kernelspec": {
   "display_name": "Python 3",
   "language": "python",
   "name": "python3"
  },
  "language_info": {
   "codemirror_mode": {
    "name": "ipython",
    "version": 3
   },
   "file_extension": ".py",
   "mimetype": "text/x-python",
   "name": "python",
   "nbconvert_exporter": "python",
   "pygments_lexer": "ipython3",
   "version": "3.8.8"
  }
 },
 "nbformat": 4,
 "nbformat_minor": 5
}
